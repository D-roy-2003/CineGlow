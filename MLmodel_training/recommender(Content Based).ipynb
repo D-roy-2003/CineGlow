{
 "cells": [
  {
   "cell_type": "code",
   "execution_count": 1,
   "id": "b3ffea76-a9e3-4c17-b069-38e6d1689c50",
   "metadata": {},
   "outputs": [],
   "source": [
    "import numpy as np\n",
    "import pandas as pd\n",
    "import matplotlib.pyplot as plt\n",
    "import os\n",
    "import ast\n",
    "import difflib\n",
    "import nltk\n",
    "from nltk.stem import PorterStemmer\n",
    "from sklearn.metrics.pairwise import cosine_similarity\n",
    "from sklearn.feature_extraction.text import CountVectorizer"
   ]
  },
  {
   "cell_type": "code",
   "execution_count": 2,
   "id": "98d502aa-1347-4044-a6dd-946250c79771",
   "metadata": {},
   "outputs": [],
   "source": [
    "movies = pd.read_csv('tmdb_5000_movies.csv')\n",
    "credits = pd.read_csv('tmdb_5000_credits.csv')"
   ]
  },
  {
   "cell_type": "code",
   "execution_count": 3,
   "id": "e9b65e66-8d90-494b-a422-31e427964a6d",
   "metadata": {},
   "outputs": [],
   "source": [
    "movies = movies.merge(credits,on ='movie_id')"
   ]
  },
  {
   "cell_type": "code",
   "execution_count": 4,
   "id": "2aae7873-7066-425a-847c-08984aacc4ff",
   "metadata": {},
   "outputs": [],
   "source": [
    "movies= movies[['movie_id','title_x','genres','keywords','overview','cast','crew']]"
   ]
  },
  {
   "cell_type": "code",
   "execution_count": 5,
   "id": "ff65340a-c51b-4d20-9a07-5dd5e46e8441",
   "metadata": {},
   "outputs": [],
   "source": [
    "movies.dropna(inplace=True)"
   ]
  },
  {
   "cell_type": "code",
   "execution_count": 6,
   "id": "7491bb0d-56c2-4d21-80de-58b1db5cd37b",
   "metadata": {},
   "outputs": [],
   "source": [
    "def convert(text):\n",
    "    l=[]\n",
    "    for i in ast.literal_eval(text):\n",
    "        l.append(i['name'])\n",
    "    return l"
   ]
  },
  {
   "cell_type": "code",
   "execution_count": 7,
   "id": "44f1bec9-a500-45c6-ae6a-5724c9cbf4bb",
   "metadata": {},
   "outputs": [],
   "source": [
    "movies['genres']=movies['genres'].apply(convert)\n",
    "movies['keywords']=movies['keywords'].apply(convert)"
   ]
  },
  {
   "cell_type": "code",
   "execution_count": 8,
   "id": "599d052f-dec3-4eee-8c04-dfca61bbb4b7",
   "metadata": {},
   "outputs": [],
   "source": [
    "def convert_cast(text):\n",
    "    l=[]\n",
    "    counter=0\n",
    "    for i in ast.literal_eval(text):\n",
    "        if counter < 5:\n",
    "            l.append(i['name'])\n",
    "            counter += 1\n",
    "    return l"
   ]
  },
  {
   "cell_type": "code",
   "execution_count": 9,
   "id": "c9095a1c-7642-4461-a489-000eb8e6068d",
   "metadata": {},
   "outputs": [],
   "source": [
    "movies['cast']=movies['cast'].apply(convert_cast)"
   ]
  },
  {
   "cell_type": "code",
   "execution_count": 10,
   "id": "d52e4cff-93b8-4de3-9f54-9bc9f381a1e1",
   "metadata": {},
   "outputs": [],
   "source": [
    "def fetch_director(text):\n",
    "    l=[]\n",
    "    for i in ast.literal_eval(text):\n",
    "        if i['job']== 'Director' :\n",
    "            l.append(i['name'])\n",
    "            break\n",
    "    return l"
   ]
  },
  {
   "cell_type": "code",
   "execution_count": 11,
   "id": "7d184ab8-7787-4c08-bbde-acc6a59641c9",
   "metadata": {},
   "outputs": [],
   "source": [
    "movies['crew']=movies['crew'].apply(fetch_director)\n",
    "movies['overview']=movies['overview'].apply(lambda x:x.split())"
   ]
  },
  {
   "cell_type": "code",
   "execution_count": 12,
   "id": "19af11c0-8264-4505-858d-d4be417c00be",
   "metadata": {},
   "outputs": [],
   "source": [
    "def remove_space(word):\n",
    "    l = []\n",
    "    for i in word:\n",
    "        l.append(i.replace(\" \",\"_\"))\n",
    "    return l"
   ]
  },
  {
   "cell_type": "code",
   "execution_count": 13,
   "id": "8ff9c6c0-4561-4c10-a976-d63716a9db46",
   "metadata": {},
   "outputs": [],
   "source": [
    "movies['crew']=movies['crew'].apply(remove_space)\n",
    "movies['cast']=movies['cast'].apply(remove_space)\n",
    "movies['genres']=movies['genres'].apply(remove_space)\n",
    "movies['keywords']=movies['keywords'].apply(remove_space)"
   ]
  },
  {
   "cell_type": "code",
   "execution_count": 14,
   "id": "238d5576-e582-4dae-ba54-c067f57f0c48",
   "metadata": {},
   "outputs": [],
   "source": [
    "movies['tags'] = movies['overview']+movies['genres']+movies['keywords']+movies['cast']+movies['crew']"
   ]
  },
  {
   "cell_type": "code",
   "execution_count": 15,
   "id": "8f78d7c0-2410-42b8-94b5-9194b15a1114",
   "metadata": {},
   "outputs": [],
   "source": [
    "new_df=movies[['movie_id','title_x','tags']]"
   ]
  },
  {
   "cell_type": "code",
   "execution_count": 16,
   "id": "f111669c-70d1-484b-bcaa-bdb714a19f93",
   "metadata": {},
   "outputs": [
    {
     "name": "stderr",
     "output_type": "stream",
     "text": [
      "C:\\Users\\deban\\AppData\\Local\\Temp\\ipykernel_9120\\684433085.py:1: SettingWithCopyWarning: \n",
      "A value is trying to be set on a copy of a slice from a DataFrame.\n",
      "Try using .loc[row_indexer,col_indexer] = value instead\n",
      "\n",
      "See the caveats in the documentation: https://pandas.pydata.org/pandas-docs/stable/user_guide/indexing.html#returning-a-view-versus-a-copy\n",
      "  new_df['tags']=new_df['tags'].apply(lambda x: \" \".join(x))\n"
     ]
    }
   ],
   "source": [
    "new_df['tags']=new_df['tags'].apply(lambda x: \" \".join(x))"
   ]
  },
  {
   "cell_type": "code",
   "execution_count": 17,
   "id": "ef6f21ec-54ff-428b-8f37-ce1bb6eab73c",
   "metadata": {},
   "outputs": [
    {
     "name": "stderr",
     "output_type": "stream",
     "text": [
      "C:\\Users\\deban\\AppData\\Local\\Temp\\ipykernel_9120\\4224080999.py:1: SettingWithCopyWarning: \n",
      "A value is trying to be set on a copy of a slice from a DataFrame.\n",
      "Try using .loc[row_indexer,col_indexer] = value instead\n",
      "\n",
      "See the caveats in the documentation: https://pandas.pydata.org/pandas-docs/stable/user_guide/indexing.html#returning-a-view-versus-a-copy\n",
      "  new_df['tags']=new_df['tags'].apply(lambda x:x.lower())\n"
     ]
    }
   ],
   "source": [
    "new_df['tags']=new_df['tags'].apply(lambda x:x.lower())"
   ]
  },
  {
   "cell_type": "code",
   "execution_count": 18,
   "id": "97e4b4e6-d741-4023-bbac-a2abfcf6f0c7",
   "metadata": {},
   "outputs": [],
   "source": [
    "ps = PorterStemmer()\n",
    "\n",
    "def stems(text):\n",
    "    l = []\n",
    "    for i in text.split():\n",
    "        l.append(ps.stem(i))\n",
    "    return \" \".join(l)   "
   ]
  },
  {
   "cell_type": "code",
   "execution_count": 19,
   "id": "641518b3-a333-4c91-a7fb-833cb11d8230",
   "metadata": {},
   "outputs": [
    {
     "name": "stderr",
     "output_type": "stream",
     "text": [
      "C:\\Users\\deban\\AppData\\Local\\Temp\\ipykernel_9120\\1522715013.py:1: SettingWithCopyWarning: \n",
      "A value is trying to be set on a copy of a slice from a DataFrame.\n",
      "Try using .loc[row_indexer,col_indexer] = value instead\n",
      "\n",
      "See the caveats in the documentation: https://pandas.pydata.org/pandas-docs/stable/user_guide/indexing.html#returning-a-view-versus-a-copy\n",
      "  new_df['tags']=new_df['tags'].apply(stems)\n"
     ]
    }
   ],
   "source": [
    "new_df['tags']=new_df['tags'].apply(stems)"
   ]
  },
  {
   "cell_type": "code",
   "execution_count": 20,
   "id": "45743b8f-094c-42b4-bedb-3cefbb76264d",
   "metadata": {},
   "outputs": [],
   "source": [
    "cv =CountVectorizer(max_features=5000,stop_words='english')\n",
    "vector = cv.fit_transform(new_df['tags']).toarray()"
   ]
  },
  {
   "cell_type": "code",
   "execution_count": 21,
   "id": "c3ca402a-69bd-4051-ae97-bae9ad3e060f",
   "metadata": {},
   "outputs": [],
   "source": [
    "similarly = cosine_similarity(vector)"
   ]
  },
  {
   "cell_type": "code",
   "execution_count": 22,
   "id": "1865dff9-100f-499f-bf88-fb67b42fc001",
   "metadata": {},
   "outputs": [],
   "source": [
    "import difflib\n",
    "\n",
    "def normalize_name(name):\n",
    "    # Lowercase, remove underscores, and strip spaces for comparison\n",
    "    return name.replace('_', ' ').lower().strip()\n",
    "\n",
    "def recommend(query, n_recommendations=5):\n",
    "    query_norm = normalize_name(query)\n",
    "    titles = new_df['title_x'].str.lower().str.strip()\n",
    "    matches = new_df[titles == query_norm]\n",
    "\n",
    "    # Flatten all cast and crew names for searching\n",
    "    all_cast = set()\n",
    "    all_crew = set()\n",
    "    cast_to_titles = {}\n",
    "    crew_to_titles = {}\n",
    "\n",
    "    for idx, row in movies.iterrows():\n",
    "        for cast_member in row['cast']:\n",
    "            norm_cast = normalize_name(cast_member)\n",
    "            all_cast.add(norm_cast)\n",
    "            cast_to_titles.setdefault(norm_cast, []).append(row['title_x'])\n",
    "        for crew_member in row['crew']:\n",
    "            norm_crew = normalize_name(crew_member)\n",
    "            all_crew.add(norm_crew)\n",
    "            crew_to_titles.setdefault(norm_crew, []).append(row['title_x'])\n",
    "            \n",
    "    # Check for exact match in cast\n",
    "    if query_norm in all_cast:\n",
    "        print(f\"Movies featuring '{query.title()}':\")\n",
    "        for title in cast_to_titles[query_norm]:\n",
    "            print(f\"- {title}\")\n",
    "        return\n",
    "        \n",
    "    # Check for exact match in crew\n",
    "    if query_norm in all_crew:\n",
    "        print(f\"Movies directed by '{query.title()}':\")\n",
    "        for title in crew_to_titles[query_norm]:\n",
    "            print(f\"- {title}\")\n",
    "        return\n",
    "\n",
    "    # Suggest close matches for cast\n",
    "    close_cast = difflib.get_close_matches(query_norm, all_cast, n=4, cutoff=0.7)\n",
    "    if close_cast:\n",
    "        print(\"Did you mean (cast):\")\n",
    "        for idx, match in enumerate(close_cast, 1):\n",
    "            print(f\"{idx}. {match.title()}\")\n",
    "        return\n",
    "        \n",
    "    # Suggest close matches for crew\n",
    "    close_crew = difflib.get_close_matches(query_norm, all_crew, n=4, cutoff=0.7)\n",
    "    if close_crew:\n",
    "        print(\"Did you mean (crew):\")\n",
    "        for idx, match in enumerate(close_crew, 1):\n",
    "            print(f\"{idx}. {match.title()}\")\n",
    "        return\n",
    "        \n",
    "    # Usual title-based recommendation\n",
    "    if matches.empty:\n",
    "        close_matches = difflib.get_close_matches(query_norm, titles, n=4, cutoff=0.7)\n",
    "        if close_matches:\n",
    "            print(\"Did you mean (title):\")\n",
    "            for idx, match in enumerate(close_matches, 1):\n",
    "                orig_title = new_df.iloc[titles.tolist().index(match)]['title_x']\n",
    "                print(f\"{idx}. {orig_title}\")\n",
    "        else:\n",
    "            print(\"Movie, cast, or crew not found and no similar names found.\")\n",
    "        return\n",
    "\n",
    "    index = matches.index[0]\n",
    "    distances = sorted(list(enumerate(similarly[index])), reverse=True, key=lambda x: x[1])\n",
    "    recommendations = []\n",
    "    for i in distances[1:n_recommendations+1]:\n",
    "        rec_title = new_df.iloc[i[0]].title_x\n",
    "        print(f\"- {rec_title}\")\n",
    "        recommendations.append(rec_title)"
   ]
  },
  {
   "cell_type": "code",
   "execution_count": 23,
   "id": "f84151c7-59ed-480e-9e5b-b6e2cf74efd6",
   "metadata": {},
   "outputs": [
    {
     "name": "stdout",
     "output_type": "stream",
     "text": [
      "- Spider-Man 3\n",
      "- Spider-Man 2\n",
      "- The Amazing Spider-Man 2\n",
      "- Arachnophobia\n",
      "- The Amazing Spider-Man\n"
     ]
    }
   ],
   "source": [
    "recommend(\"Spider-Man\")"
   ]
  },
  {
   "cell_type": "code",
   "execution_count": 24,
   "id": "f24b1fc1-b762-4a5b-a069-fb59f366ced7",
   "metadata": {},
   "outputs": [
    {
     "name": "stdout",
     "output_type": "stream",
     "text": [
      "Did you mean (title):\n",
      "1. Spider-Man\n",
      "2. Spider-Man 3\n",
      "3. Spider-Man 2\n",
      "4. Superman\n"
     ]
    }
   ],
   "source": [
    "recommend(\"SpiderMan\")"
   ]
  },
  {
   "cell_type": "code",
   "execution_count": 25,
   "id": "a6e78b19-b831-42de-aa1f-094b922ed193",
   "metadata": {},
   "outputs": [
    {
     "name": "stdout",
     "output_type": "stream",
     "text": [
      "Movies featuring 'Johnny Depp':\n",
      "- Pirates of the Caribbean: At World's End\n",
      "- Pirates of the Caribbean: Dead Man's Chest\n",
      "- The Lone Ranger\n",
      "- Pirates of the Caribbean: On Stranger Tides\n",
      "- Alice in Wonderland\n",
      "- Alice Through the Looking Glass\n",
      "- Charlie and the Chocolate Factory\n",
      "- Dark Shadows\n",
      "- Rango\n",
      "- Pirates of the Caribbean: The Curse of the Black Pearl\n",
      "- Public Enemies\n",
      "- The Tourist\n",
      "- Transcendence\n",
      "- Mortdecai\n",
      "- Black Mass\n",
      "- From Hell\n",
      "- Secret Window\n",
      "- The Ninth Gate\n",
      "- Donnie Brasco\n",
      "- The Astronaut's Wife\n",
      "- Blow\n",
      "- Corpse Bride\n",
      "- The Imaginarium of Doctor Parnassus\n",
      "- Once Upon a Time in Mexico\n",
      "- Chocolat\n",
      "- Finding Neverland\n",
      "- Don Juan DeMarco\n",
      "- The Libertine\n",
      "- Edward Scissorhands\n",
      "- Fear and Loathing in Las Vegas\n",
      "- Ed Wood\n",
      "- What's Eating Gilbert Grape\n"
     ]
    }
   ],
   "source": [
    "recommend(\"Johnny Depp\")"
   ]
  },
  {
   "cell_type": "code",
   "execution_count": 26,
   "id": "93aa57e0-3a32-4872-b6af-1270e710eaac",
   "metadata": {},
   "outputs": [],
   "source": [
    "import pickle\n",
    "\n",
    "pickle.dump(new_df,open('movie_list.pkl','wb'))\n",
    "pickle.dump(similarly,open('similarity.pkl','wb'))\n",
    "\n",
    "pickle.dump(new_df,open('D:/Projects/Movie_Recommendation/backend/movie_list.pkl','wb'))\n",
    "pickle.dump(similarly,open('D:/Projects/Movie_Recommendation/backend/similarity.pkl','wb'))"
   ]
  },
  {
   "cell_type": "code",
   "execution_count": 27,
   "id": "d7c89741",
   "metadata": {},
   "outputs": [
    {
     "name": "stdout",
     "output_type": "stream",
     "text": [
      "Did you mean (cast):\n",
      "1. Ron Morgan\n",
      "2. Byron Mann\n",
      "3. Ron Perlman\n",
      "4. Ron Leibman\n"
     ]
    }
   ],
   "source": [
    "recommend(\"Iron Man\")"
   ]
  },
  {
   "cell_type": "code",
   "execution_count": 28,
   "id": "aab65ac8",
   "metadata": {},
   "outputs": [
    {
     "name": "stdout",
     "output_type": "stream",
     "text": [
      "Did you mean (cast):\n",
      "1. Ron Morgan\n",
      "2. Byron Mann\n"
     ]
    }
   ],
   "source": [
    "recommend(\"IronMan\")"
   ]
  },
  {
   "cell_type": "code",
   "execution_count": 29,
   "id": "cd1435f1",
   "metadata": {},
   "outputs": [
    {
     "name": "stdout",
     "output_type": "stream",
     "text": [
      "- Silent Running\n",
      "- Guardians of the Galaxy\n",
      "- Space Cowboys\n",
      "- Apollo 13\n",
      "- A.I. Artificial Intelligence\n"
     ]
    }
   ],
   "source": [
    "recommend(\"Interstellar\")"
   ]
  },
  {
   "cell_type": "code",
   "execution_count": 34,
   "id": "b8c203c3",
   "metadata": {},
   "outputs": [
    {
     "name": "stdout",
     "output_type": "stream",
     "text": [
      "Movies featuring 'Leonardo Dicaprio':\n",
      "- Titanic\n",
      "- The Great Gatsby\n",
      "- Inception\n",
      "- The Revenant\n",
      "- The Aviator\n",
      "- Django Unchained\n",
      "- Blood Diamond\n",
      "- The Wolf of Wall Street\n",
      "- Gangs of New York\n",
      "- The Departed\n",
      "- Shutter Island\n",
      "- Body of Lies\n",
      "- Catch Me If You Can\n",
      "- The Beach\n",
      "- Revolutionary Road\n",
      "- The Man in the Iron Mask\n",
      "- J. Edgar\n",
      "- The Quick and the Dead\n",
      "- Marvin's Room\n",
      "- Romeo + Juliet\n",
      "- Celebrity\n",
      "- What's Eating Gilbert Grape\n"
     ]
    }
   ],
   "source": [
    "recommend(\"Leonardo DiCaprio\")"
   ]
  },
  {
   "cell_type": "code",
   "execution_count": null,
   "id": "686b8d87",
   "metadata": {},
   "outputs": [
    {
     "name": "stdout",
     "output_type": "stream",
     "text": [
      "Movies featuring 'Leonardo Dicaprio':\n",
      "- Titanic\n",
      "- The Great Gatsby\n",
      "- Inception\n",
      "- The Revenant\n",
      "- The Aviator\n",
      "- Django Unchained\n",
      "- Blood Diamond\n",
      "- The Wolf of Wall Street\n",
      "- Gangs of New York\n",
      "- The Departed\n",
      "- Shutter Island\n",
      "- Body of Lies\n",
      "- Catch Me If You Can\n",
      "- The Beach\n",
      "- Revolutionary Road\n",
      "- The Man in the Iron Mask\n",
      "- J. Edgar\n",
      "- The Quick and the Dead\n",
      "- Marvin's Room\n",
      "- Romeo + Juliet\n",
      "- Celebrity\n",
      "- What's Eating Gilbert Grape\n"
     ]
    }
   ],
   "source": [
    "recommend(\"Leonardo DiCaprio\")"
   ]
  }
 ],
 "metadata": {
  "kernelspec": {
   "display_name": "Python 3",
   "language": "python",
   "name": "python3"
  },
  "language_info": {
   "codemirror_mode": {
    "name": "ipython",
    "version": 3
   },
   "file_extension": ".py",
   "mimetype": "text/x-python",
   "name": "python",
   "nbconvert_exporter": "python",
   "pygments_lexer": "ipython3",
   "version": "3.11.9"
  }
 },
 "nbformat": 4,
 "nbformat_minor": 5
}
